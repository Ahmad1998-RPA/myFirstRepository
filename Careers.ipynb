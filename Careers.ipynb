{
 "cells": [
  {
   "cell_type": "markdown",
   "metadata": {},
   "source": [
    "#### Summary: Careers and Recruiting in Data Science\n",
    "Congratulations! You have completed this module. At this point, you know that: \n",
    "1. Data Science helps physicians provide the best treatment for their patients  , helps meteorologists predict the extent of local weather events, and can even help predict natural disasters like earthquakes and tornadoes.\n",
    "2. Companies can start on their data science journey by capturing data. Once they have data, they can begin analyzing it.\n",
    "3. Everyone who uses the Internet generates mass amounts of data daily.\n",
    "4. Amazon and Netflix use recommendation engines, and UPS uses data from customers, drivers, and vehicles to use  the drivers’ time and fuel efficiently.\n",
    "5. The purpose of the final deliverable of a Data Science project is to communicate new information and insights from the data analysis to key decision-makers.\n",
    "6. The report should present a thorough analysis of the data and communicate the project findings.\n",
    "7. Companies should look for someone excited about working with the data in their particular industry. They should seek out someone curious who can ask interesting, meaningful questions about the types of data they intend to collect. They should hire people who love working with data, are fluent in statistics, and are competent in applying machine learning algorithms.\n",
    "8. A clearly organized and logical report should communicate the following to the reader:\n",
    "   1. What they gain by reading the report.\n",
    "   2. Clearly defined goals.\n",
    "   3. The significance of your contribution.\n",
    "   4. Appropriate context by giving sufficient background.\n",
    "   5. Why this work is practical and useful.\n",
    "   6. Conjecture plausible future developments that might result from your work."
   ]
  }
 ],
 "metadata": {
  "language_info": {
   "name": "python"
  }
 },
 "nbformat": 4,
 "nbformat_minor": 2
}
